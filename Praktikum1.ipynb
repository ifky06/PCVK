{
  "nbformat": 4,
  "nbformat_minor": 0,
  "metadata": {
    "colab": {
      "provenance": [],
      "authorship_tag": "ABX9TyN3SCRINjBXq6w3mUw5DVFB",
      "include_colab_link": true
    },
    "kernelspec": {
      "name": "python3",
      "display_name": "Python 3"
    },
    "language_info": {
      "name": "python"
    }
  },
  "cells": [
    {
      "cell_type": "markdown",
      "metadata": {
        "id": "view-in-github",
        "colab_type": "text"
      },
      "source": [
        "<a href=\"https://colab.research.google.com/github/ifky06/PCVK/blob/main/Praktikum1.ipynb\" target=\"_parent\"><img src=\"https://colab.research.google.com/assets/colab-badge.svg\" alt=\"Open In Colab\"/></a>"
      ]
    },
    {
      "cell_type": "markdown",
      "source": [
        "# **Ahmad Rifki Fauzi**"
      ],
      "metadata": {
        "id": "i3UXh27KRRuk"
      }
    },
    {
      "cell_type": "markdown",
      "source": [
        "# **TI-3B / 04**"
      ],
      "metadata": {
        "id": "IVlqdPQcRdx7"
      }
    },
    {
      "cell_type": "code",
      "execution_count": null,
      "metadata": {
        "id": "jHMIBQVuQ6Fg"
      },
      "outputs": [],
      "source": [
        "import numpy as np\n",
        "import pandas as pd\n",
        "import cv2 as cv\n",
        "from google.colab.patches import cv2_imshow #for image display\n",
        "from skimage import io\n",
        "from skimage import transform\n",
        "from PIL import Image\n",
        "import matplotlib.pylab as plt"
      ]
    },
    {
      "cell_type": "code",
      "source": [],
      "metadata": {
        "id": "CNRolt-hSH2C"
      },
      "execution_count": null,
      "outputs": []
    }
  ]
}